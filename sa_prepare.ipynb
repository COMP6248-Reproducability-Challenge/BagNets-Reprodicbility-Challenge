{
 "cells": [
  {
   "cell_type": "code",
   "execution_count": 112,
   "metadata": {},
   "outputs": [],
   "source": [
    "import warnings\n",
    "warnings.filterwarnings('ignore')"
   ]
  },
  {
   "cell_type": "code",
   "execution_count": 113,
   "metadata": {},
   "outputs": [],
   "source": [
    "import os\n",
    "import numpy as np\n",
    "import scipy.misc\n",
    "import matplotlib.pyplot as plt\n",
    "import torch\n",
    "%matplotlib inline"
   ]
  },
  {
   "cell_type": "code",
   "execution_count": 114,
   "metadata": {},
   "outputs": [],
   "source": [
    "class CONFIG:\n",
    "    IMAGE_HEIGHT = 224\n",
    "    IMAGE_WIDTH = 224\n",
    "    #COLOR_CHANNELS = None\n",
    "    IMAGE_DIR = \"./dataset/\"\n",
    "    GEN_DIR1 = \"./training/\"\n",
    "    GEN_DIR2 = \"./validation/\"\n",
    "    test_DIR = \"./test/\"\n",
    "    GEN_test1 = \"./test1/\"\n",
    "    GEN_test2 = \"./test2/\"\n",
    "    \n",
    "os.makedirs(CONFIG.IMAGE_DIR, exist_ok=True)\n",
    "os.makedirs(CONFIG.GEN_DIR1, exist_ok=True)\n",
    "os.makedirs(CONFIG.GEN_DIR2, exist_ok=True)\n",
    "os.makedirs(CONFIG.test_DIR, exist_ok=True)\n",
    "os.makedirs(CONFIG.GEN_test1, exist_ok=True)\n",
    "os.makedirs(CONFIG.GEN_test2, exist_ok=True)"
   ]
  },
  {
   "cell_type": "code",
   "execution_count": 115,
   "metadata": {},
   "outputs": [
    {
     "name": "stdout",
     "output_type": "stream",
     "text": [
      "dict_keys(['Bedroom', 'Coast', 'Forest', 'Highway', 'Industrial', 'InsideCity', 'Kitchen', 'LivingRoom', 'Mountain', 'Office', 'OpenCountry', 'Store', 'Street', 'Suburb', 'TallBuilding'])\n"
     ]
    }
   ],
   "source": [
    "Index = [\"Bedroom\", \"Coast\", \"Forest\", \"Highway\", \"Industrial\", \"InsideCity\", \"Kitchen\", \n",
    "        \"LivingRoom\", \"Mountain\", \"Office\", \"OpenCountry\", \"Store\", \"Street\", \"Suburb\", \"TallBuilding\"]\n",
    "Classes = {str(i):[] for i in Index}\n",
    "\n",
    "for i in Index:\n",
    "    Classes[str(i)] = [filename \n",
    "                    for filename in os.listdir(CONFIG.IMAGE_DIR + str(i) + \"/\") \n",
    "                    if filename.endswith(\".jpg\")]\n",
    "    \n",
    "print(Classes.keys())\n",
    "    \n",
    "for i in Classes.keys():\n",
    "    Classes[i].sort()\n"
   ]
  },
  {
   "cell_type": "code",
   "execution_count": 116,
   "metadata": {},
   "outputs": [],
   "source": [
    "for i in Index:\n",
    "    np.random.shuffle(Classes[str(i)])"
   ]
  },
  {
   "cell_type": "code",
   "execution_count": 117,
   "metadata": {},
   "outputs": [
    {
     "name": "stdout",
     "output_type": "stream",
     "text": [
      "['image_0126.jpg', 'image_0102.jpg', 'image_0145.jpg', 'image_0214.jpg', 'image_0032.jpg', 'image_0078.jpg', 'image_0058.jpg', 'image_0183.jpg', 'image_0132.jpg', 'image_0199.jpg', 'image_0041.jpg', 'image_0184.jpg', 'image_0159.jpg', 'image_0076.jpg', 'image_0023.jpg', 'image_0083.jpg', 'image_0136.jpg', 'image_0036.jpg', 'image_0151.jpg', 'image_0012.jpg', 'image_0129.jpg', 'image_0197.jpg', 'image_0002.jpg', 'image_0045.jpg', 'image_0065.jpg', 'image_0127.jpg', 'image_0210.jpg', 'image_0167.jpg', 'image_0044.jpg', 'image_0107.jpg', 'image_0022.jpg', 'image_0061.jpg', 'image_0172.jpg', 'image_0174.jpg', 'image_0155.jpg', 'image_0185.jpg', 'image_0028.jpg', 'image_0051.jpg', 'image_0108.jpg', 'image_0106.jpg', 'image_0109.jpg', 'image_0015.jpg', 'image_0010.jpg', 'image_0164.jpg', 'image_0181.jpg', 'image_0186.jpg', 'image_0072.jpg', 'image_0100.jpg', 'image_0123.jpg', 'image_0177.jpg', 'image_0085.jpg', 'image_0193.jpg', 'image_0173.jpg', 'image_0048.jpg', 'image_0143.jpg', 'image_0125.jpg', 'image_0001.jpg', 'image_0169.jpg', 'image_0057.jpg', 'image_0110.jpg', 'image_0055.jpg', 'image_0116.jpg', 'image_0005.jpg', 'image_0094.jpg', 'image_0146.jpg', 'image_0105.jpg', 'image_0133.jpg', 'image_0091.jpg', 'image_0031.jpg', 'image_0137.jpg', 'image_0179.jpg', 'image_0198.jpg', 'image_0149.jpg', 'image_0204.jpg', 'image_0046.jpg', 'image_0188.jpg', 'image_0025.jpg', 'image_0201.jpg', 'image_0187.jpg', 'image_0075.jpg', 'image_0154.jpg', 'image_0165.jpg', 'image_0216.jpg', 'image_0009.jpg', 'image_0099.jpg', 'image_0027.jpg', 'image_0089.jpg', 'image_0178.jpg', 'image_0212.jpg', 'image_0171.jpg', 'image_0111.jpg', 'image_0139.jpg', 'image_0213.jpg', 'image_0194.jpg', 'image_0070.jpg', 'image_0211.jpg', 'image_0101.jpg', 'image_0079.jpg', 'image_0038.jpg', 'image_0147.jpg']\n"
     ]
    }
   ],
   "source": [
    "print(Classes[str(\"Bedroom\")])"
   ]
  },
  {
   "cell_type": "code",
   "execution_count": 118,
   "metadata": {},
   "outputs": [],
   "source": [
    "import shutil\n",
    "for j in Index:\n",
    "    os.makedirs(CONFIG.GEN_DIR1 + str(j) + \"/\", exist_ok=True)\n",
    "    for i in range(80):\n",
    "        shutil.copyfile(CONFIG.IMAGE_DIR + str(j) + \"/\" + Classes[str(j)][i], \n",
    "                        CONFIG.GEN_DIR1 + str(j) + \"/\" + Classes[str(j)][i])\n",
    "        \n",
    "import shutil\n",
    "for j in Index:\n",
    "    os.makedirs(CONFIG.GEN_DIR2 + str(j) + \"/\", exist_ok=True)\n",
    "    for i in range(80, 100):\n",
    "        shutil.copyfile(CONFIG.IMAGE_DIR + str(j) + \"/\" + Classes[str(j)][i], \n",
    "                        CONFIG.GEN_DIR2 + str(j) + \"/\" + Classes[str(j)][i])\n",
    "        \n",
    "        "
   ]
  },
  {
   "cell_type": "code",
   "execution_count": null,
   "metadata": {},
   "outputs": [],
   "source": []
  },
  {
   "cell_type": "code",
   "execution_count": 119,
   "metadata": {},
   "outputs": [
    {
     "name": "stdout",
     "output_type": "stream",
     "text": [
      "dict_keys(['Bedroom', 'Coast', 'Forest', 'Highway', 'Industrial', 'InsideCity', 'Kitchen', 'LivingRoom', 'Mountain', 'Office', 'OpenCountry', 'Store', 'Street', 'Suburb', 'TallBuilding'])\n"
     ]
    }
   ],
   "source": [
    "Classes = {str(i):[] for i in Index}\n",
    "\n",
    "for i in Index:\n",
    "    Classes[str(i)] = [filename \n",
    "                    for filename in os.listdir(CONFIG.test_DIR + str(i) + \"/\") \n",
    "                    if filename.endswith(\".jpg\")]\n",
    "    \n",
    "print(Classes.keys())\n",
    "    \n",
    "for i in Classes.keys():\n",
    "    Classes[i].sort()\n"
   ]
  },
  {
   "cell_type": "code",
   "execution_count": 120,
   "metadata": {},
   "outputs": [],
   "source": [
    "for i in Index:\n",
    "    np.random.shuffle(Classes[str(i)])"
   ]
  },
  {
   "cell_type": "code",
   "execution_count": 121,
   "metadata": {},
   "outputs": [
    {
     "name": "stdout",
     "output_type": "stream",
     "text": [
      "['image_0161.jpg', 'image_0030.jpg', 'image_0016.jpg', 'image_0128.jpg', 'image_0060.jpg', 'image_0122.jpg', 'image_0124.jpg', 'image_0150.jpg', 'image_0063.jpg', 'image_0163.jpg', 'image_0152.jpg', 'image_0042.jpg', 'image_0175.jpg', 'image_0047.jpg', 'image_0040.jpg', 'image_0209.jpg', 'image_0074.jpg', 'image_0090.jpg', 'image_0082.jpg', 'image_0020.jpg', 'image_0112.jpg', 'image_0121.jpg', 'image_0029.jpg', 'image_0037.jpg', 'image_0130.jpg', 'image_0053.jpg', 'image_0196.jpg', 'image_0003.jpg', 'image_0115.jpg', 'image_0095.jpg', 'image_0104.jpg', 'image_0059.jpg', 'image_0068.jpg', 'image_0180.jpg', 'image_0034.jpg', 'image_0119.jpg', 'image_0191.jpg', 'image_0134.jpg', 'image_0018.jpg', 'image_0039.jpg', 'image_0200.jpg', 'image_0097.jpg', 'image_0011.jpg', 'image_0084.jpg', 'image_0142.jpg', 'image_0166.jpg', 'image_0080.jpg', 'image_0153.jpg', 'image_0192.jpg', 'image_0052.jpg', 'image_0087.jpg', 'image_0049.jpg', 'image_0062.jpg', 'image_0086.jpg', 'image_0158.jpg', 'image_0205.jpg', 'image_0103.jpg', 'image_0206.jpg', 'image_0195.jpg', 'image_0096.jpg', 'image_0138.jpg', 'image_0056.jpg', 'image_0113.jpg', 'image_0013.jpg', 'image_0067.jpg', 'image_0017.jpg', 'image_0007.jpg', 'image_0098.jpg', 'image_0118.jpg', 'image_0088.jpg', 'image_0141.jpg', 'image_0131.jpg', 'image_0092.jpg', 'image_0035.jpg', 'image_0208.jpg', 'image_0054.jpg', 'image_0207.jpg', 'image_0008.jpg', 'image_0024.jpg', 'image_0043.jpg', 'image_0006.jpg', 'image_0014.jpg', 'image_0026.jpg', 'image_0135.jpg', 'image_0148.jpg', 'image_0064.jpg', 'image_0157.jpg', 'image_0069.jpg', 'image_0203.jpg', 'image_0156.jpg', 'image_0162.jpg', 'image_0071.jpg', 'image_0004.jpg', 'image_0140.jpg', 'image_0077.jpg', 'image_0190.jpg', 'image_0182.jpg', 'image_0093.jpg', 'image_0073.jpg', 'image_0117.jpg', 'image_0033.jpg', 'image_0050.jpg', 'image_0021.jpg', 'image_0144.jpg', 'image_0160.jpg', 'image_0170.jpg', 'image_0066.jpg', 'image_0202.jpg', 'image_0215.jpg', 'image_0189.jpg', 'image_0081.jpg', 'image_0176.jpg', 'image_0168.jpg', 'image_0120.jpg', 'image_0019.jpg', 'image_0114.jpg']\n"
     ]
    }
   ],
   "source": [
    "print(Classes[str(\"Bedroom\")])"
   ]
  },
  {
   "cell_type": "code",
   "execution_count": 122,
   "metadata": {},
   "outputs": [],
   "source": [
    "import shutil\n",
    "for j in Index:\n",
    "    os.makedirs(CONFIG.GEN_test1 + str(j) + \"/\", exist_ok=True)\n",
    "    for i in range(80):\n",
    "        shutil.copyfile(CONFIG.test_DIR + str(j) + \"/\" + Classes[str(j)][i], \n",
    "                        CONFIG.GEN_test1 + str(j) + \"/\" + Classes[str(j)][i])\n",
    "        \n",
    "        "
   ]
  },
  {
   "cell_type": "code",
   "execution_count": null,
   "metadata": {},
   "outputs": [],
   "source": []
  },
  {
   "cell_type": "code",
   "execution_count": 129,
   "metadata": {},
   "outputs": [],
   "source": [
    "def crop_images(image_name, input_size, patchsize):\n",
    "    content_image = scipy.misc.imread(image_name)\n",
    "    content_image = scipy.misc.imresize(content_image, size=(input_size,input_size))\n",
    "    cropnum = input_size // patchsize\n",
    "    print(cropnum)\n",
    "    sub_images = np.zeros((cropnum*cropnum, patchsize, patchsize))\n",
    "    for i in range(cropnum):\n",
    "        for j in range(cropnum):\n",
    "            sub_images[i*cropnum + j ,:,:] = content_image[i*patchsize: (i+1)*patchsize, j*patchsize: (j+1)*patchsize]\n",
    "    for i in range(sub_images.shape[0]):\n",
    "        scipy.misc.imsave(image_name[:-4] + \"_\" + str(patchsize) + \"_\" + str(i) + \".jpg\", sub_images[i])\n",
    "    return None\n",
    "    "
   ]
  },
  {
   "cell_type": "code",
   "execution_count": 131,
   "metadata": {},
   "outputs": [
    {
     "name": "stdout",
     "output_type": "stream",
     "text": [
      "6\n"
     ]
    }
   ],
   "source": [
    "crop_images(CONFIG.GEN_DIR1 + \"Bedroom/\" + \"image_0002.jpg\", 224, 33)"
   ]
  },
  {
   "cell_type": "code",
   "execution_count": null,
   "metadata": {},
   "outputs": [],
   "source": []
  }
 ],
 "metadata": {
  "kernelspec": {
   "display_name": "Python 3",
   "language": "python",
   "name": "python3"
  },
  "language_info": {
   "codemirror_mode": {
    "name": "ipython",
    "version": 3
   },
   "file_extension": ".py",
   "mimetype": "text/x-python",
   "name": "python",
   "nbconvert_exporter": "python",
   "pygments_lexer": "ipython3",
   "version": "3.6.3"
  }
 },
 "nbformat": 4,
 "nbformat_minor": 2
}
